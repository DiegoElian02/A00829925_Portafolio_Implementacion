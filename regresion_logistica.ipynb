{
 "cells": [
  {
   "cell_type": "markdown",
   "metadata": {},
   "source": [
    "# Regresión Logística\n",
    "\n",
    "**Diego Elián Rodríguez Cantú A00829925**"
   ]
  },
  {
   "cell_type": "code",
   "execution_count": 18,
   "metadata": {},
   "outputs": [],
   "source": [
    "# Crear lista con los valores de la variable independiente (Attendance)\n",
    "attendance = [80, 65, 95, 95, 85, 75, 90, 65]\n",
    "\n",
    "# Crear lista con los valores de la variable independiente (Homework)\n",
    "homework = [75, 70, 85, 100, 65, 55, 90, 80]\n",
    "\n",
    "# Crear lista con los valores de la variable dependiente (Pass: no = 0, yes = 1)\n",
    "Pass = [1, 0, 1, 1, 0, 0, 1, 1]\n",
    "\n",
    "# Crear lista con los hiper-parámetros iniciales (thetas)\n",
    "thethas_model1 = [1, 1]\n",
    "thethas_model2 = [1, 1]\n",
    "\n",
    "# Cargar el valor del learning rate (alpha)\n",
    "alpha = 0.0001"
   ]
  },
  {
   "cell_type": "code",
   "execution_count": 19,
   "metadata": {},
   "outputs": [],
   "source": [
    "# Importar módulo math\n",
    "import math as m\n",
    "\n",
    "# Crear función lambda para la función de hipótesis\n",
    "h = lambda thethas,x: thethas[0] + thethas[1]*x\n",
    "\n",
    "# Calcular el total de muestras a partir de los datos (n)\n",
    "n = len(attendance)"
   ]
  },
  {
   "cell_type": "code",
   "execution_count": 20,
   "metadata": {},
   "outputs": [],
   "source": [
    "# Definir total de iteraciones a ejecutar\n",
    "epochs = 1000"
   ]
  },
  {
   "cell_type": "code",
   "execution_count": 21,
   "metadata": {},
   "outputs": [
    {
     "name": "stdout",
     "output_type": "stream",
     "text": [
      "Epoch 0, theta0: 0.9654961780312612, theta1: -0.003645691386847619\n",
      "Epoch 100, theta0: 0.9651463548067929, theta1: -0.0037576322157914996\n",
      "Epoch 200, theta0: 0.9647980006525088, theta1: -0.0037534273718121012\n",
      "Epoch 300, theta0: 0.9644497135976359, theta1: -0.0037492233377629165\n",
      "Epoch 400, theta0: 0.9641014936292488, theta1: -0.0037450201134879325\n",
      "Epoch 500, theta0: 0.9637533407344261, theta1: -0.003740817698831175\n",
      "Epoch 600, theta0: 0.9634052549002482, theta1: -0.0037366160936367003\n",
      "Epoch 700, theta0: 0.9630572361137981, theta1: -0.003732415297748592\n",
      "Epoch 800, theta0: 0.9627092843621614, theta1: -0.0037282153110109635\n",
      "Epoch 900, theta0: 0.9623613996324252, theta1: -0.00372401613326795\n",
      "Thetas finales: [0.9620170597572358, -0.003719859744049535]\n"
     ]
    }
   ],
   "source": [
    "# Iteraciones\n",
    "# Seleccionar la muestra a utilizar (Attendance o Homework)\n",
    "X = attendance\n",
    "\n",
    "# Implementar ciclo para iteraciones\n",
    "for epoch in range(epochs):\n",
    "    delta = []\n",
    "    deltaX = []\n",
    "    \n",
    "    # Barrer muestras\n",
    "    for xi, yi in zip(X, Pass):\n",
    "        delta.append(h(thethas, xi) - yi)\n",
    "        deltaX.append((h(thethas, xi) - yi) * xi)\n",
    "    \n",
    "    # Calcular sumatorias y promedio\n",
    "    dt0 = 1 / n * sum(delta)\n",
    "    dt1 = 1 / n * sum(deltaX)\n",
    "    # \n",
    "    # Actualizar theta0\n",
    "    thethas[0] = thethas[0] - alpha * dt0\n",
    "    # Actualizar theta1\n",
    "    thethas[1] = thethas[1] - alpha * dt1\n",
    "    \n",
    "    if epoch % 100 == 0:\n",
    "        print(f'Epoch {epoch}, theta0: {thethas[0]}, theta1: {thethas[1]}')\n",
    "\n",
    "# Imprimir theta actualizado\n",
    "print(\"Thetas finales:\", thethas)\n",
    "# Preservar hiper-parámetros del modelo\n",
    "initial_thethas = thethas[:]\n",
    "\n",
    "# Reiniciar lista con los hiper-parámetros iniciales (thetas)\n",
    "thethas = initial_thethas"
   ]
  },
  {
   "cell_type": "code",
   "execution_count": 22,
   "metadata": {},
   "outputs": [
    {
     "name": "stdout",
     "output_type": "stream",
     "text": [
      "Epoch 0, theta0: 0.9620121869642765, theta1: -0.0034988287405374628\n",
      "Epoch 100, theta0: 0.9612499966874415, theta1: -0.003353184873318666\n",
      "Epoch 200, theta0: 0.9604863257177686, theta1: -0.003343619656300658\n",
      "Epoch 300, theta0: 0.9597228783821798, theta1: -0.003334057240369285\n",
      "Epoch 400, theta0: 0.9589596546151867, theta1: -0.0033244976247042857\n",
      "Epoch 500, theta0: 0.9581966543513183, theta1: -0.003314940808485614\n",
      "Epoch 600, theta0: 0.9574338775251239, theta1: -0.00330538679089348\n",
      "Epoch 700, theta0: 0.9566713240711724, theta1: -0.003295835571108338\n",
      "Epoch 800, theta0: 0.9559089939240513, theta1: -0.003286287148310878\n",
      "Epoch 900, theta0: 0.9551468870183665, theta1: -0.0032767415216820167\n"
     ]
    }
   ],
   "source": [
    "# Seleccionar la muestra a utilizar (Homework)\n",
    "X = homework\n",
    "\n",
    "# Implementar ciclo para iteraciones\n",
    "for epoch in range(epochs):\n",
    "    delta = []\n",
    "    deltaX = []\n",
    "    \n",
    "    # Barrer muestras\n",
    "    for xi, yi in zip(X, Pass):\n",
    "        delta.append(h(thethas, xi) - yi)\n",
    "        deltaX.append((h(thethas, xi) - yi) * xi)\n",
    "    \n",
    "    # Calcular sumatorias y promedio\n",
    "    dt0 = 1 / n * sum(delta)\n",
    "    dt1 = 1 / n * sum(deltaX)\n",
    "    \n",
    "    # Actualizar theta0\n",
    "    thethas[0] = thethas[0] - alpha * dt0\n",
    "    # Actualizar theta1\n",
    "    thethas[1] = thethas[1] - alpha * dt1\n",
    "    \n",
    "    if epoch % 100 == 0:\n",
    "        print(f'Epoch {epoch}, theta0: {thethas[0]}, theta1: {thethas[1]}')"
   ]
  },
  {
   "cell_type": "code",
   "execution_count": 23,
   "metadata": {},
   "outputs": [
    {
     "name": "stdout",
     "output_type": "stream",
     "text": [
      "Thetas finales: [0.9543926210215333, -0.003267294104881424]\n"
     ]
    }
   ],
   "source": [
    "# Imprimir theta actualizado\n",
    "print(\"Thetas finales:\", thethas)\n",
    "# Preservar hiper-parámetros del modelo\n",
    "initial_thethas = thethas[:]"
   ]
  },
  {
   "cell_type": "markdown",
   "metadata": {},
   "source": [
    "## Evaluación"
   ]
  },
  {
   "cell_type": "code",
   "execution_count": 24,
   "metadata": {},
   "outputs": [],
   "source": [
    "# Inicializar acumuladores para las predicciones de los modelos\n",
    "predictions_model1 = []\n",
    "predictions_model2 = []\n",
    "\n",
    "# Barrer la entrada y estimar las salidas:\n",
    "for xi in X:\n",
    "    # Usar función de hipótesis\n",
    "    prediction_model1 = round(h(thethas_model1, xi))\n",
    "    prediction_model2 = round(h(thethas_model2, xi))\n",
    "    \n",
    "    # Acumular las predicciones\n",
    "    predictions_model1.append(prediction_model1)\n",
    "    predictions_model2.append(prediction_model2)"
   ]
  },
  {
   "cell_type": "code",
   "execution_count": 28,
   "metadata": {},
   "outputs": [
    {
     "data": {
      "text/plain": [
       "[76, 71, 86, 101, 66, 56, 91, 81]"
      ]
     },
     "execution_count": 28,
     "metadata": {},
     "output_type": "execute_result"
    }
   ],
   "source": [
    "predictions_model1"
   ]
  },
  {
   "cell_type": "code",
   "execution_count": 25,
   "metadata": {},
   "outputs": [],
   "source": [
    "# Función para calcular las métricas\n",
    "def calculate_metrics(VP, FP, VN, FN):\n",
    "    accuracy = (VP + VN) / (VP + VN + FP + FN)\n",
    "    precision = VP / (VP + FP)\n",
    "    recall = VP / (VP + FN)\n",
    "    f1_score = 2 * (precision * recall) / (precision + recall)\n",
    "    return accuracy, precision, recall, f1_score\n"
   ]
  },
  {
   "cell_type": "code",
   "execution_count": 26,
   "metadata": {},
   "outputs": [
    {
     "ename": "ZeroDivisionError",
     "evalue": "division by zero",
     "output_type": "error",
     "traceback": [
      "\u001b[1;31m---------------------------------------------------------------------------\u001b[0m",
      "\u001b[1;31mZeroDivisionError\u001b[0m                         Traceback (most recent call last)",
      "\u001b[1;32mc:\\Users\\elian\\OneDrive\\Escritorio\\TEC\\7mo_semestre\\A00829925_Portafolio_Implementacion\\regresion_logistica.ipynb Cell 11\u001b[0m in \u001b[0;36m<cell line: 35>\u001b[1;34m()\u001b[0m\n\u001b[0;32m     <a href='vscode-notebook-cell:/c%3A/Users/elian/OneDrive/Escritorio/TEC/7mo_semestre/A00829925_Portafolio_Implementacion/regresion_logistica.ipynb#X13sZmlsZQ%3D%3D?line=31'>32</a>\u001b[0m             VN_model2 \u001b[39m+\u001b[39m\u001b[39m=\u001b[39m \u001b[39m1\u001b[39m\n\u001b[0;32m     <a href='vscode-notebook-cell:/c%3A/Users/elian/OneDrive/Escritorio/TEC/7mo_semestre/A00829925_Portafolio_Implementacion/regresion_logistica.ipynb#X13sZmlsZQ%3D%3D?line=33'>34</a>\u001b[0m \u001b[39m# Calcular métricas para ambos modelos\u001b[39;00m\n\u001b[1;32m---> <a href='vscode-notebook-cell:/c%3A/Users/elian/OneDrive/Escritorio/TEC/7mo_semestre/A00829925_Portafolio_Implementacion/regresion_logistica.ipynb#X13sZmlsZQ%3D%3D?line=34'>35</a>\u001b[0m accuracy_model1, precision_model1, recall_model1, f1_score_model1 \u001b[39m=\u001b[39m calculate_metrics(VP_model1, FP_model1, VN_model1, FN_model1)\n\u001b[0;32m     <a href='vscode-notebook-cell:/c%3A/Users/elian/OneDrive/Escritorio/TEC/7mo_semestre/A00829925_Portafolio_Implementacion/regresion_logistica.ipynb#X13sZmlsZQ%3D%3D?line=35'>36</a>\u001b[0m accuracy_model2, precision_model2, recall_model2, f1_score_model2 \u001b[39m=\u001b[39m calculate_metrics(VP_model2, FP_model2, VN_model2, FN_model2)\n\u001b[0;32m     <a href='vscode-notebook-cell:/c%3A/Users/elian/OneDrive/Escritorio/TEC/7mo_semestre/A00829925_Portafolio_Implementacion/regresion_logistica.ipynb#X13sZmlsZQ%3D%3D?line=37'>38</a>\u001b[0m \u001b[39m# Imprimir métricas\u001b[39;00m\n",
      "\u001b[1;32mc:\\Users\\elian\\OneDrive\\Escritorio\\TEC\\7mo_semestre\\A00829925_Portafolio_Implementacion\\regresion_logistica.ipynb Cell 11\u001b[0m in \u001b[0;36mcalculate_metrics\u001b[1;34m(VP, FP, VN, FN)\u001b[0m\n\u001b[0;32m      <a href='vscode-notebook-cell:/c%3A/Users/elian/OneDrive/Escritorio/TEC/7mo_semestre/A00829925_Portafolio_Implementacion/regresion_logistica.ipynb#X13sZmlsZQ%3D%3D?line=1'>2</a>\u001b[0m \u001b[39mdef\u001b[39;00m \u001b[39mcalculate_metrics\u001b[39m(VP, FP, VN, FN):\n\u001b[0;32m      <a href='vscode-notebook-cell:/c%3A/Users/elian/OneDrive/Escritorio/TEC/7mo_semestre/A00829925_Portafolio_Implementacion/regresion_logistica.ipynb#X13sZmlsZQ%3D%3D?line=2'>3</a>\u001b[0m     accuracy \u001b[39m=\u001b[39m (VP \u001b[39m+\u001b[39m VN) \u001b[39m/\u001b[39m (VP \u001b[39m+\u001b[39m VN \u001b[39m+\u001b[39m FP \u001b[39m+\u001b[39m FN)\n\u001b[1;32m----> <a href='vscode-notebook-cell:/c%3A/Users/elian/OneDrive/Escritorio/TEC/7mo_semestre/A00829925_Portafolio_Implementacion/regresion_logistica.ipynb#X13sZmlsZQ%3D%3D?line=3'>4</a>\u001b[0m     precision \u001b[39m=\u001b[39m VP \u001b[39m/\u001b[39;49m (VP \u001b[39m+\u001b[39;49m FP)\n\u001b[0;32m      <a href='vscode-notebook-cell:/c%3A/Users/elian/OneDrive/Escritorio/TEC/7mo_semestre/A00829925_Portafolio_Implementacion/regresion_logistica.ipynb#X13sZmlsZQ%3D%3D?line=4'>5</a>\u001b[0m     recall \u001b[39m=\u001b[39m VP \u001b[39m/\u001b[39m (VP \u001b[39m+\u001b[39m FN)\n\u001b[0;32m      <a href='vscode-notebook-cell:/c%3A/Users/elian/OneDrive/Escritorio/TEC/7mo_semestre/A00829925_Portafolio_Implementacion/regresion_logistica.ipynb#X13sZmlsZQ%3D%3D?line=5'>6</a>\u001b[0m     f1_score \u001b[39m=\u001b[39m \u001b[39m2\u001b[39m \u001b[39m*\u001b[39m (precision \u001b[39m*\u001b[39m recall) \u001b[39m/\u001b[39m (precision \u001b[39m+\u001b[39m recall)\n",
      "\u001b[1;31mZeroDivisionError\u001b[0m: division by zero"
     ]
    }
   ],
   "source": [
    "# Inicializar contadores para VP, FP, VN, FN (modelo 1)\n",
    "VP_model1 = FP_model1 = VN_model1 = FN_model1 = 0\n",
    "\n",
    "# Barrer datos reales y predicciones (modelo 1)\n",
    "for real, pred in zip(Pass, predictions_model1):\n",
    "    if real == 1:\n",
    "        if pred == 1:\n",
    "            VP_model1 += 1\n",
    "        else:\n",
    "            FN_model1 += 1\n",
    "    else:\n",
    "        if pred == 1:\n",
    "            FP_model1 += 1\n",
    "        else:\n",
    "            VN_model1 += 1\n",
    "\n",
    "# Repetir para modelo 2\n",
    "# Inicializar contadores para VP, FP, VN, FN (modelo 2)\n",
    "VP_model2 = FP_model2 = VN_model2 = FN_model2 = 0\n",
    "\n",
    "# Barrer datos reales y predicciones (modelo 2)\n",
    "for real, pred in zip(Pass, predictions_model2):\n",
    "    if real == 1:\n",
    "        if pred == 1:\n",
    "            VP_model2 += 1\n",
    "        else:\n",
    "            FN_model2 += 1\n",
    "    else:\n",
    "        if pred == 1:\n",
    "            FP_model2 += 1\n",
    "        else:\n",
    "            VN_model2 += 1\n",
    "\n",
    "# Calcular métricas para ambos modelos\n",
    "accuracy_model1, precision_model1, recall_model1, f1_score_model1 = calculate_metrics(VP_model1, FP_model1, VN_model1, FN_model1)\n",
    "accuracy_model2, precision_model2, recall_model2, f1_score_model2 = calculate_metrics(VP_model2, FP_model2, VN_model2, FN_model2)\n",
    "\n",
    "# Imprimir métricas\n",
    "print(\"Modelo 1:\")\n",
    "print(\"Accuracy:\", accuracy_model1)\n",
    "print(\"Precision:\", precision_model1)\n",
    "print(\"Recall:\", recall_model1)\n",
    "print(\"F1 Score:\", f1_score_model1)\n",
    "\n",
    "print(\"\\nModelo 2:\")\n",
    "print(\"Accuracy:\", accuracy_model2)\n",
    "print(\"Precision:\", precision_model2)\n",
    "print(\"Recall:\", recall_model2)\n",
    "print(\"F1 Score:\", f1_score_model2)"
   ]
  }
 ],
 "metadata": {
  "kernelspec": {
   "display_name": "base",
   "language": "python",
   "name": "python3"
  },
  "language_info": {
   "codemirror_mode": {
    "name": "ipython",
    "version": 3
   },
   "file_extension": ".py",
   "mimetype": "text/x-python",
   "name": "python",
   "nbconvert_exporter": "python",
   "pygments_lexer": "ipython3",
   "version": "3.9.7"
  },
  "orig_nbformat": 4
 },
 "nbformat": 4,
 "nbformat_minor": 2
}
